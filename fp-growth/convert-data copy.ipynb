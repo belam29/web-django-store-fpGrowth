{
 "cells": [
  {
   "cell_type": "code",
   "execution_count": 7,
   "metadata": {},
   "outputs": [],
   "source": [
    "import pandas as pd\n",
    "from mlxtend.preprocessing import TransactionEncoder"
   ]
  },
  {
   "cell_type": "code",
   "execution_count": 8,
   "metadata": {},
   "outputs": [],
   "source": [
    "path = 'book1.xlsx'\n",
    "\n",
    "file = pd.read_excel(path)"
   ]
  },
  {
   "cell_type": "code",
   "execution_count": 14,
   "metadata": {},
   "outputs": [
    {
     "name": "stdout",
     "output_type": "stream",
     "text": [
      "Invoice 536365\n",
      "0    85123A\n",
      "1     71053\n",
      "2    84406B\n",
      "3    84029G\n",
      "4    84029E\n",
      "5     22752\n",
      "6     21730\n",
      "Name: StockCode, dtype: object\n",
      "Invoice 536366\n",
      "7    22633\n",
      "8    22632\n",
      "Name: StockCode, dtype: object\n",
      "Invoice 536367\n",
      "13    84879\n",
      "14    22745\n",
      "15    22748\n",
      "16    22749\n",
      "17    22310\n",
      "18    84969\n",
      "19    22623\n",
      "20    22622\n",
      "21    21754\n",
      "22    21755\n",
      "23    21777\n",
      "24    48187\n",
      "Name: StockCode, dtype: object\n",
      "Invoice 536368\n",
      "9     22960\n",
      "10    22913\n",
      "11    22912\n",
      "12    22914\n",
      "Name: StockCode, dtype: object\n",
      "Invoice 536369\n",
      "25    21756\n",
      "Name: StockCode, dtype: object\n",
      "Invoice 536370\n",
      "26    22728\n",
      "27    22727\n",
      "28    22726\n",
      "29    21724\n",
      "30    21883\n",
      "31    10002\n",
      "32    21791\n",
      "33    21035\n",
      "34    22326\n",
      "35    22629\n",
      "36    22659\n",
      "37    22631\n",
      "38    22661\n",
      "39    21731\n",
      "40    22900\n",
      "41    21913\n",
      "42    22540\n",
      "43    22544\n",
      "44    22492\n",
      "45     POST\n",
      "Name: StockCode, dtype: object\n",
      "Invoice 536371\n",
      "46    22086\n",
      "Name: StockCode, dtype: object\n",
      "Invoice 536372\n",
      "47    22632\n",
      "48    22633\n",
      "Name: StockCode, dtype: object\n",
      "Invoice 536373\n",
      "49    85123A\n",
      "50     71053\n",
      "51    84406B\n",
      "52     20679\n",
      "53     37370\n",
      "54     21871\n",
      "55     21071\n",
      "56     21068\n",
      "57     82483\n",
      "58     82486\n",
      "59     82482\n",
      "60    82494L\n",
      "61    84029G\n",
      "62    84029E\n",
      "63     22752\n",
      "64     21730\n",
      "Name: StockCode, dtype: object\n",
      "Invoice 536374\n",
      "65    21258\n",
      "Name: StockCode, dtype: object\n",
      "Invoice 536375\n",
      "66    85123A\n",
      "67     71053\n",
      "68    84406B\n",
      "69     20679\n",
      "70     37370\n",
      "71     21871\n",
      "72     21071\n",
      "73     21068\n",
      "74     82483\n",
      "75     82486\n",
      "76     82482\n",
      "77    82494L\n",
      "78    84029G\n",
      "79    84029E\n",
      "80     22752\n",
      "81     21730\n",
      "Name: StockCode, dtype: object\n",
      "Invoice 536376\n",
      "82    22114\n",
      "83    21733\n",
      "Name: StockCode, dtype: object\n",
      "Invoice 536377\n",
      "84    22632\n",
      "85    22633\n",
      "Name: StockCode, dtype: object\n",
      "Invoice 536378\n",
      "86     22386\n",
      "87    85099C\n",
      "88     21033\n",
      "89     20723\n",
      "90    84997B\n",
      "91    84997C\n",
      "92     21094\n",
      "93     20725\n",
      "94     21559\n",
      "95     22352\n",
      "96     21212\n",
      "97     21975\n",
      "98     21977\n",
      "Name: StockCode, dtype: object\n"
     ]
    }
   ],
   "source": [
    "# Sử dụng apply(list) để chuyển đổi mỗi nhóm thành một danh sách\n",
    "grouped_data = file.groupby('Invoice')['StockCode']\n",
    "for name, i in grouped_data:\n",
    "    print(f'Invoice {name}\\n{i}')"
   ]
  },
  {
   "cell_type": "code",
   "execution_count": 15,
   "metadata": {},
   "outputs": [
    {
     "data": {
      "text/plain": [
       "Invoice\n",
       "536365    [85123A, 71053, 84406B, 84029G, 84029E, 22752,...\n",
       "536366                                       [22633, 22632]\n",
       "536367    [84879, 22745, 22748, 22749, 22310, 84969, 226...\n",
       "536368                         [22960, 22913, 22912, 22914]\n",
       "536369                                              [21756]\n",
       "536370    [22728, 22727, 22726, 21724, 21883, 10002, 217...\n",
       "536371                                              [22086]\n",
       "536372                                       [22632, 22633]\n",
       "536373    [85123A, 71053, 84406B, 20679, 37370, 21871, 2...\n",
       "536374                                              [21258]\n",
       "536375    [85123A, 71053, 84406B, 20679, 37370, 21871, 2...\n",
       "536376                                       [22114, 21733]\n",
       "536377                                       [22632, 22633]\n",
       "536378    [22386, 85099C, 21033, 20723, 84997B, 84997C, ...\n",
       "Name: StockCode, dtype: object"
      ]
     },
     "execution_count": 15,
     "metadata": {},
     "output_type": "execute_result"
    }
   ],
   "source": [
    "# Sử dụng apply(list) để chuyển đổi mỗi nhóm thành một danh sách\n",
    "grouped_data = file.groupby('Invoice')['StockCode'].apply(list)\n",
    "grouped_data"
   ]
  },
  {
   "cell_type": "code",
   "execution_count": 21,
   "metadata": {},
   "outputs": [
    {
     "name": "stdout",
     "output_type": "stream",
     "text": [
      "['85123A', 71053, '84406B', '84029G', '84029E', 22752, 21730]\n",
      "[22633, 22632]\n",
      "[84879, 22745, 22748, 22749, 22310, 84969, 22623, 22622, 21754, 21755, 21777, 48187]\n",
      "[22960, 22913, 22912, 22914]\n",
      "[21756]\n",
      "[22728, 22727, 22726, 21724, 21883, 10002, 21791, 21035, 22326, 22629, 22659, 22631, 22661, 21731, 22900, 21913, 22540, 22544, 22492, 'POST']\n",
      "[22086]\n",
      "[22632, 22633]\n",
      "['85123A', 71053, '84406B', 20679, 37370, 21871, 21071, 21068, 82483, 82486, 82482, '82494L', '84029G', '84029E', 22752, 21730]\n",
      "[21258]\n",
      "['85123A', 71053, '84406B', 20679, 37370, 21871, 21071, 21068, 82483, 82486, 82482, '82494L', '84029G', '84029E', 22752, 21730]\n",
      "[22114, 21733]\n",
      "[22632, 22633]\n",
      "[22386, '85099C', 21033, 20723, '84997B', '84997C', 21094, 20725, 21559, 22352, 21212, 21975, 21977]\n"
     ]
    }
   ],
   "source": [
    "# Sử dụng apply(list) để chuyển đổi mỗi nhóm thành một danh sách\n",
    "grouped_data = file.groupby('Invoice')['StockCode'].apply(list).tolist()\n",
    "for i in grouped_data:\n",
    "    print(i, end='\\n')"
   ]
  },
  {
   "cell_type": "code",
   "execution_count": null,
   "metadata": {},
   "outputs": [],
   "source": [
    "# for i, inv in enumerate(invoice):\n",
    "#     for j in range(len(file)):\n",
    "#         if file.loc[j, 'Invoice'] == inv:\n",
    "#             data[i].append(file.loc[j, 'StockCode'])"
   ]
  },
  {
   "cell_type": "code",
   "execution_count": null,
   "metadata": {},
   "outputs": [],
   "source": [
    "# chuuyển các giá trị thành str nhất quán\n",
    "data_str = [[str(item) for item in row] for row in data]"
   ]
  },
  {
   "cell_type": "code",
   "execution_count": null,
   "metadata": {},
   "outputs": [],
   "source": [
    "# In kết quả\n",
    "for i, inv in enumerate(invoice):\n",
    "    print(f'Invoice {inv}: {data_str[i]}')\n",
    "    if i == 19:  # Dừng sau 20 dòng\n",
    "        break"
   ]
  },
  {
   "cell_type": "code",
   "execution_count": null,
   "metadata": {},
   "outputs": [],
   "source": [
    "#lưu data\n",
    "data_stockcode = pd.DataFrame(data_str)\n",
    "\n",
    "# Lưu DataFrame mới thành một tệp csv\n",
    "output_path = 'data.csv'\n",
    "data_stockcode.to_csv(output_path, index=False)\n"
   ]
  }
 ],
 "metadata": {
  "kernelspec": {
   "display_name": "Python 3",
   "language": "python",
   "name": "python3"
  },
  "language_info": {
   "codemirror_mode": {
    "name": "ipython",
    "version": 3
   },
   "file_extension": ".py",
   "mimetype": "text/x-python",
   "name": "python",
   "nbconvert_exporter": "python",
   "pygments_lexer": "ipython3",
   "version": "3.11.2"
  }
 },
 "nbformat": 4,
 "nbformat_minor": 2
}
